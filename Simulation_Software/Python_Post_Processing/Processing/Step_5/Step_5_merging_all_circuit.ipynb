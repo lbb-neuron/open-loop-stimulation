{
 "cells": [
  {
   "cell_type": "code",
   "execution_count": 1,
   "metadata": {},
   "outputs": [],
   "source": [
    "import numpy as np\n",
    "import h5py"
   ]
  },
  {
   "cell_type": "code",
   "execution_count": 2,
   "metadata": {},
   "outputs": [],
   "source": [
    "input_data_path     = '../Step_3/'\n",
    "circuit_mask_path   = '../Step_4/'"
   ]
  },
  {
   "cell_type": "code",
   "execution_count": 3,
   "metadata": {},
   "outputs": [],
   "source": [
    "MEAs = [2,3,4,6,7,8,9,10]"
   ]
  },
  {
   "cell_type": "code",
   "execution_count": 4,
   "metadata": {},
   "outputs": [],
   "source": [
    "circuit_ids = {}\n",
    "for MEA in MEAs:\n",
    "    circuit_ids[MEA] = 0-np.ones(15,dtype=np.int16)"
   ]
  },
  {
   "cell_type": "code",
   "execution_count": 5,
   "metadata": {},
   "outputs": [
    {
     "name": "stdout",
     "output_type": "stream",
     "text": [
      "In total there are 17 usable circuits.\n"
     ]
    }
   ],
   "source": [
    "circuit_count = 0\n",
    "f = h5py.File(circuit_mask_path + 'step_4_percentages.h5','r')\n",
    "for MEA in MEAs:\n",
    "    mask = np.array(f['MEA_'+str(MEA)+'/total'])\n",
    "    arg_mask = np.argwhere(mask)[:,0]\n",
    "    for element in arg_mask:\n",
    "        circuit_ids[MEA][element] = circuit_count\n",
    "        circuit_count += 1\n",
    "print('In total there are',circuit_count,'usable circuits.')\n",
    "f.close()"
   ]
  },
  {
   "cell_type": "markdown",
   "metadata": {},
   "source": [
    "## Standard experiment"
   ]
  },
  {
   "cell_type": "code",
   "execution_count": 6,
   "metadata": {},
   "outputs": [],
   "source": [
    "DIVs = [9,11,13,15,17,19,21,23,25,27,29]"
   ]
  },
  {
   "cell_type": "code",
   "execution_count": 7,
   "metadata": {},
   "outputs": [],
   "source": [
    "f = h5py.File('standard_experiment.h5','w')\n",
    "for DIV in DIVs:\n",
    "    div_group = f.create_group('DIV_'+str(DIV))\n",
    "    for MEA in MEAs:\n",
    "        try:\n",
    "            f_in  = h5py.File(input_data_path + '/MEA_' + str(MEA) + '_DIV_' + str(DIV)+'.h5','r')\n",
    "        except:\n",
    "            continue\n",
    "                \n",
    "        ids_old = np.argwhere(circuit_ids[MEA]!=-1)[:,0]\n",
    "        ids_new = circuit_ids[MEA][ids_old]\n",
    "        \n",
    "        for i in range(ids_old.shape[0]):\n",
    "            keys = np.array(list(f_in['Circuit_'+str(ids_old[i])].keys()))\n",
    "            \n",
    "            new_group = div_group.create_group('Circuit_'+str(ids_new[i]))\n",
    "            for key in keys:\n",
    "                old_group = f_in['Circuit_'+str(ids_old[i])]\n",
    "                old_group.copy(key,new_group)\n",
    "                \n",
    "            new_group.create_dataset(name='MEA',data=MEA)\n",
    "            new_group.create_dataset(name='circuit',data=ids_old[i])\n",
    "            \n",
    "        f_in.close()\n",
    "f.close()"
   ]
  },
  {
   "cell_type": "markdown",
   "metadata": {},
   "source": [
    "## Spike Shape"
   ]
  },
  {
   "cell_type": "code",
   "execution_count": 8,
   "metadata": {},
   "outputs": [],
   "source": [
    "DIVs = ['22spike_shape','20spike_shape','26spike_shape','30spike_shape','30spike_shape_2']\n",
    "divs = ['22','20','26','30_1','30_2']"
   ]
  },
  {
   "cell_type": "code",
   "execution_count": 9,
   "metadata": {},
   "outputs": [],
   "source": [
    "f = h5py.File('spike_shape.h5','w')\n",
    "for e,DIV in enumerate(DIVs):\n",
    "    div_group = f.create_group('DIV_'+divs[e])\n",
    "    for MEA in MEAs:\n",
    "        try:\n",
    "            f_in = h5py.File(input_data_path + '/MEA_' + str(MEA) + '_DIV_' + DIV +'.h5','r')\n",
    "        except:\n",
    "            continue\n",
    "                \n",
    "        ids_old = np.argwhere(circuit_ids[MEA]!=-1)[:,0]\n",
    "        ids_new = circuit_ids[MEA][ids_old]\n",
    "        \n",
    "        for i in range(ids_old.shape[0]):\n",
    "            keys = np.array(list(f_in['Circuit_'+str(ids_old[i])].keys()))\n",
    "            \n",
    "            new_group = div_group.create_group('Circuit_'+str(ids_new[i]))\n",
    "            for key in keys:\n",
    "                old_group = f_in['Circuit_'+str(ids_old[i])]\n",
    "                old_group.copy(key,new_group)\n",
    "            \n",
    "            new_group.create_dataset(name='MEA',data=MEA)\n",
    "            new_group.create_dataset(name='circuit',data=ids_old[i])\n",
    "        \n",
    "        f_in.close()\n",
    "f.close()"
   ]
  },
  {
   "cell_type": "markdown",
   "metadata": {},
   "source": [
    "## Long Stim"
   ]
  },
  {
   "cell_type": "code",
   "execution_count": 10,
   "metadata": {},
   "outputs": [],
   "source": [
    "DIVs = [18]"
   ]
  },
  {
   "cell_type": "code",
   "execution_count": 11,
   "metadata": {},
   "outputs": [],
   "source": [
    "f = h5py.File('long_stim.h5','w')\n",
    "for DIV in DIVs:\n",
    "    div_group = f.create_group('DIV_'+str(DIV))\n",
    "    for MEA in MEAs:\n",
    "        try:\n",
    "            f_in = h5py.File(input_data_path + '/MEA_' + str(MEA) + '_DIV_' + str(DIV)+'long_stim.h5','r')\n",
    "        except:\n",
    "            continue\n",
    "                \n",
    "        ids_old = np.argwhere(circuit_ids[MEA]!=-1)[:,0]\n",
    "        ids_new = circuit_ids[MEA][ids_old]\n",
    "        \n",
    "        for i in range(ids_old.shape[0]):\n",
    "            keys = np.array(list(f_in['Circuit_'+str(ids_old[i])].keys()))\n",
    "            \n",
    "            new_group = div_group.create_group('Circuit_'+str(ids_new[i]))\n",
    "            for key in keys:\n",
    "                old_group = f_in['Circuit_'+str(ids_old[i])]\n",
    "                old_group.copy(key,new_group)\n",
    "            \n",
    "            new_group.create_dataset(name='MEA',data=MEA)\n",
    "            new_group.create_dataset(name='circuit',data=ids_old[i])\n",
    "        \n",
    "        f_in.close()\n",
    "f.close()"
   ]
  },
  {
   "cell_type": "markdown",
   "metadata": {},
   "source": [
    "## Circular Timing"
   ]
  },
  {
   "cell_type": "code",
   "execution_count": 12,
   "metadata": {},
   "outputs": [],
   "source": [
    "DIVs = [23,24,28]"
   ]
  },
  {
   "cell_type": "code",
   "execution_count": 13,
   "metadata": {},
   "outputs": [],
   "source": [
    "f = h5py.File('circular_timing.h5','w')\n",
    "for DIV in DIVs:\n",
    "    div_group = f.create_group('DIV_'+str(DIV))\n",
    "    for MEA in MEAs:\n",
    "        try:\n",
    "            f_in = h5py.File(input_data_path + '/MEA_' + str(MEA) + '_DIV_' + str(DIV)+'circular_timing.h5','r')\n",
    "        except:\n",
    "            continue\n",
    "                \n",
    "        ids_old = np.argwhere(circuit_ids[MEA]!=-1)[:,0]\n",
    "        ids_new = circuit_ids[MEA][ids_old]\n",
    "        \n",
    "        for i in range(ids_old.shape[0]):\n",
    "            keys = np.array(list(f_in['Circuit_'+str(ids_old[i])].keys()))\n",
    "            \n",
    "            new_group = div_group.create_group('Circuit_'+str(ids_new[i]))\n",
    "            for key in keys:\n",
    "                old_group = f_in['Circuit_'+str(ids_old[i])]\n",
    "                old_group.copy(key,new_group)\n",
    "            \n",
    "            new_group.create_dataset(name='MEA',data=MEA)\n",
    "            new_group.create_dataset(name='circuit',data=ids_old[i])\n",
    "        \n",
    "        f_in.close()\n",
    "f.close()"
   ]
  },
  {
   "cell_type": "markdown",
   "metadata": {},
   "source": [
    "## Stim Addition"
   ]
  },
  {
   "cell_type": "code",
   "execution_count": 14,
   "metadata": {},
   "outputs": [],
   "source": [
    "DIVs = [28]"
   ]
  },
  {
   "cell_type": "code",
   "execution_count": 15,
   "metadata": {},
   "outputs": [],
   "source": [
    "f = h5py.File('stim_addition.h5','w')\n",
    "for DIV in DIVs:\n",
    "    div_group = f.create_group('DIV_'+str(DIV))\n",
    "    for MEA in MEAs:\n",
    "        try:\n",
    "            f_in = h5py.File(input_data_path + '/MEA_' + str(MEA) + '_DIV_' + str(DIV)+'_stim_addition.h5','r')\n",
    "        except:\n",
    "            continue\n",
    "                \n",
    "        ids_old = np.argwhere(circuit_ids[MEA]!=-1)[:,0]\n",
    "        ids_new = circuit_ids[MEA][ids_old]\n",
    "        \n",
    "        for i in range(ids_old.shape[0]):\n",
    "            keys = np.array(list(f_in['Circuit_'+str(ids_old[i])].keys()))\n",
    "            \n",
    "            new_group = div_group.create_group('Circuit_'+str(ids_new[i]))\n",
    "            for key in keys:\n",
    "                old_group = f_in['Circuit_'+str(ids_old[i])]\n",
    "                old_group.copy(key,new_group)\n",
    "            \n",
    "            new_group.create_dataset(name='MEA',data=MEA)\n",
    "            new_group.create_dataset(name='circuit',data=ids_old[i])\n",
    "        \n",
    "        f_in.close()\n",
    "f.close()"
   ]
  },
  {
   "cell_type": "markdown",
   "metadata": {},
   "source": [
    "## Noise Estimation"
   ]
  },
  {
   "cell_type": "code",
   "execution_count": 16,
   "metadata": {},
   "outputs": [],
   "source": [
    "DIVs = [30]"
   ]
  },
  {
   "cell_type": "code",
   "execution_count": 17,
   "metadata": {},
   "outputs": [],
   "source": [
    "f = h5py.File('noise_estimation.h5','w')\n",
    "for DIV in DIVs:\n",
    "    div_group = f.create_group('DIV_'+str(DIV))\n",
    "    for MEA in MEAs:\n",
    "        try:\n",
    "            f_in = h5py.File(input_data_path + '/MEA_' + str(MEA) + '_DIV_' + str(DIV)+'_noise_estimation.h5','r')\n",
    "        except:\n",
    "            continue\n",
    "                \n",
    "        ids_old = np.argwhere(circuit_ids[MEA]!=-1)[:,0]\n",
    "        ids_new = circuit_ids[MEA][ids_old]\n",
    "        \n",
    "        for i in range(ids_old.shape[0]):\n",
    "            keys = np.array(list(f_in['Circuit_'+str(ids_old[i])].keys()))\n",
    "            \n",
    "            new_group = div_group.create_group('Circuit_'+str(ids_new[i]))\n",
    "            for key in keys:\n",
    "                old_group = f_in['Circuit_'+str(ids_old[i])]\n",
    "                old_group.copy(key,new_group)\n",
    "            \n",
    "            new_group.create_dataset(name='MEA',data=MEA)\n",
    "            new_group.create_dataset(name='circuit',data=ids_old[i])\n",
    "        \n",
    "        f_in.close()\n",
    "f.close()"
   ]
  },
  {
   "cell_type": "code",
   "execution_count": null,
   "metadata": {},
   "outputs": [],
   "source": []
  }
 ],
 "metadata": {
  "kernelspec": {
   "display_name": "Python 3",
   "language": "python",
   "name": "python3"
  },
  "language_info": {
   "codemirror_mode": {
    "name": "ipython",
    "version": 3
   },
   "file_extension": ".py",
   "mimetype": "text/x-python",
   "name": "python",
   "nbconvert_exporter": "python",
   "pygments_lexer": "ipython3",
   "version": "3.7.6"
  }
 },
 "nbformat": 4,
 "nbformat_minor": 2
}
