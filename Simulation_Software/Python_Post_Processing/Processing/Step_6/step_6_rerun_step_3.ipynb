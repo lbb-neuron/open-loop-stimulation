{
 "cells": [
  {
   "cell_type": "code",
   "execution_count": 1,
   "metadata": {},
   "outputs": [],
   "source": [
    "import numpy as np\n",
    "import h5py\n",
    "\n",
    "import sys\n",
    "from joblib import Parallel,delayed\n",
    "import time\n",
    "\n",
    "import re\n",
    "import os\n",
    "\n",
    "import cv2\n",
    "\n",
    "from scipy.optimize import curve_fit"
   ]
  },
  {
   "cell_type": "code",
   "execution_count": 2,
   "metadata": {},
   "outputs": [],
   "source": [
    "# Do not forget to change the parameters also in step 3."
   ]
  },
  {
   "cell_type": "code",
   "execution_count": 3,
   "metadata": {},
   "outputs": [],
   "source": [
    "circuit_mask_path = '../Step_4/'\n",
    "input_data_path   = '../Step_5/'"
   ]
  },
  {
   "cell_type": "code",
   "execution_count": 4,
   "metadata": {},
   "outputs": [],
   "source": [
    "fs          = 25   # kHz\n",
    "gauss_blurr = 0.1  # ms\n",
    "upper_thr   = 0.1  # Probability\n",
    "lower_thr   = 0.05 # Probability\n",
    "\n",
    "binning_y   = 1    # sec\n",
    "binning_x   = 0.1  # ms\n",
    "smooth_y    = 45   # Smoothing over time\n",
    "\n",
    "first_x_ms  = 25   # Save the first 25 ms\n",
    "\n",
    "thr1        = 15   # Hysteresis thrhold top\n",
    "thr2        = 3    # Hysteresis thrhold bottom\n",
    "sigma       = 2    # starting smoothness of fit\n",
    "\n",
    "min_ridge_length = 200 # Minimal ridge length"
   ]
  },
  {
   "cell_type": "code",
   "execution_count": 5,
   "metadata": {},
   "outputs": [],
   "source": [
    "f = h5py.File(circuit_mask_path + 'step_4_percentages.h5','r')\n",
    "total_circuit_count = np.sum([np.sum(f['MEA_'+str(i)+'/total']) for i in [2,3,4,6,7,8,9,10]])\n",
    "f.close()"
   ]
  },
  {
   "cell_type": "code",
   "execution_count": 6,
   "metadata": {},
   "outputs": [],
   "source": [
    "filenames = []\n",
    "for (_,_,files) in os.walk(input_data_path):\n",
    "    for filename in files:\n",
    "        if '.h5' in filename:\n",
    "            filenames.append(filename)"
   ]
  },
  {
   "cell_type": "code",
   "execution_count": 7,
   "metadata": {},
   "outputs": [],
   "source": [
    "def fit(x,y,mu,sigma):\n",
    "    def f(x,a,b,c):\n",
    "        return a * np.exp(-(x-b)**2/(2*c*c))\n",
    "    \n",
    "    try:\n",
    "        param,_ = curve_fit(f,x,y,p0=[1,mu,sigma],maxfev=1000)\n",
    "        return int(min(max(param[1],x[0]),x[-1])),min(abs(param[2]),3/binning_x)\n",
    "    except:\n",
    "        return mu,sigma"
   ]
  },
  {
   "cell_type": "code",
   "execution_count": 8,
   "metadata": {},
   "outputs": [],
   "source": [
    "def argmax2d(array):\n",
    "    x = array.shape[0]\n",
    "    y = array.shape[1]\n",
    "    m = np.argmax(np.reshape(array,x*y))\n",
    "    return m//y,m%y"
   ]
  },
  {
   "cell_type": "code",
   "execution_count": 9,
   "metadata": {},
   "outputs": [],
   "source": [
    "def delete_line(x,y,array,thr2):\n",
    "    y_start = np.copy(y)\n",
    "    while y < array.shape[1] and array[x,y] > thr2:\n",
    "        array[x,y] = 0\n",
    "        y += 1\n",
    "        \n",
    "    y = y_start - 1\n",
    "    while y >= 0 and array[x,y] > thr2:\n",
    "        array[x,y] = 0\n",
    "        y -= 1\n",
    "        \n",
    "    return array"
   ]
  },
  {
   "cell_type": "code",
   "execution_count": 10,
   "metadata": {},
   "outputs": [],
   "source": [
    "filename = filenames[0]"
   ]
  },
  {
   "cell_type": "code",
   "execution_count": 11,
   "metadata": {},
   "outputs": [],
   "source": [
    "def smoothing_data(filename,save_images=False):\n",
    "    t0 = time.time()\n",
    "\n",
    "    f_in  = h5py.File(input_data_path+filename,'r')\n",
    "    f_out = h5py.File(filename,'w')\n",
    "    for DIV in list(f_in.keys()):\n",
    "        f_in_div = f_in[DIV]\n",
    "        f_out_div = f_out.create_group(DIV)\n",
    "        for circuit in range(total_circuit_count):\n",
    "            try:\n",
    "                f_in_div['Circuit_'+str(circuit)].keys()\n",
    "            except:\n",
    "                continue # This circuit has no data for the experiment in question\n",
    "            print(circuit)\n",
    "            circuit_group = f_out_div.create_group('Circuit_'+str(circuit))\n",
    "            patterns = list(f_in_div['Circuit_' + str(circuit)].keys())\n",
    "            patterns.remove('MEA')\n",
    "            patterns.remove('circuit')\n",
    "            pattern  = np.array(patterns)\n",
    "            for pattern in patterns:\n",
    "                pattern_group = circuit_group.create_group(pattern)\n",
    "                segments = np.array(list(f_in_div['Circuit_' + str(circuit) + '/' + pattern].keys()))\n",
    "                \n",
    "                for segment in segments:\n",
    "                    segment_group = pattern_group.create_group(segment)\n",
    "                    start_id  = np.array(f_in_div['Circuit_' + str(circuit) + '/' + pattern + '/' + segment + '/Start_ID'])\n",
    "                    stop_id   = np.array(f_in_div['Circuit_' + str(circuit) + '/' + pattern + '/' + segment + '/Stop_ID'])\n",
    "                    data      = np.array(f_in_div['Circuit_' + str(circuit) + '/' + pattern + '/' + segment + '/Spikes'])\n",
    "                    artifacts = np.array(f_in_div['Circuit_' + str(circuit) + '/' + pattern + '/' + segment + '/Artifacts'])\n",
    "\n",
    "                    # Create the binned dataset\n",
    "                    bins_x   = int(np.ceil(250/binning_x)+0.5)\n",
    "                    bins_y   = int(np.ceil((stop_id-start_id)/(binning_y*4))+0.5)\n",
    "                    binned   = np.zeros((bins_y,bins_x,4))\n",
    "\n",
    "                    for i in range(data.shape[0]):\n",
    "                        bins_x = int(data[i,2]/(binning_x*fs))\n",
    "                        bins_y = int(data[i,0]/(binning_y*4))\n",
    "                        elec   = int(data[i,1]+0.5)\n",
    "                        binned[bins_y,bins_x,elec] += 1\n",
    "\n",
    "                    binned   = binned/(binning_y*4)\n",
    "\n",
    "                    # Smooth in y direction\n",
    "                    def gauss(sigma,res):\n",
    "                        steps = int(np.ceil(sigma/res)+0.5)*6\n",
    "                        x = np.arange(-steps,steps+1,1)\n",
    "                        return np.exp(-(x**2)/(2*(sigma/res)**2))\n",
    "\n",
    "                    gauss_kernel  = gauss(smooth_y,binning_y*4)\n",
    "                    if gauss_kernel.shape[0] > binned.shape[0]:\n",
    "                        print('Warning: Smoothing more than there are data points.')\n",
    "                        kernel_start = (gauss_kernel.shape[0]  - binned.shape[0])//2\n",
    "                        gauss_kernel = gauss_kernel[kernel_start:kernel_start+binned.shape[0]]\n",
    "                    gauss_kernel /= np.sum(gauss_kernel)\n",
    "\n",
    "                    smoothed = np.copy(binned)\n",
    "                    for i in range(smoothed.shape[1]):\n",
    "                        for j in range(4):\n",
    "                            smoothed[:,i,j] = np.convolve(smoothed[:,i,j],gauss_kernel,'same') \n",
    "\n",
    "                    # Correct for data loss in y direction\n",
    "                    factor = np.ones_like(smoothed[:,0,0])\n",
    "                    for i in range(gauss_kernel.shape[0]//2):\n",
    "                        factor[i]  /= np.sum(gauss_kernel[:i+gauss_kernel.shape[0]//2])\n",
    "                        factor[factor.shape[0]-1-i] /= np.sum(gauss_kernel[:i+gauss_kernel.shape[0]//2])\n",
    "                    smoothed = smoothed * factor[:,np.newaxis,np.newaxis]\n",
    "\n",
    "                    # Smooth in x direction\n",
    "                    gauss_kernel = gauss(gauss_blurr,binning_x)\n",
    "                    for i in range(smoothed.shape[0]):\n",
    "                        for j in range(4):\n",
    "                            smoothed[i,:,j] = np.convolve(smoothed[i,:,j],gauss_kernel,'same')\n",
    "\n",
    "                    smoothed = (np.minimum(smoothed*255,255))[:,:int(first_x_ms/binning_x)]\n",
    "\n",
    "                    if save_images:\n",
    "                        segment_group.create_dataset(name='Filtered',data=(smoothed+0.5).astype(np.uint8))\n",
    "                        \n",
    "                    for key in list(f_in_div['Circuit_' + str(circuit) + '/' + pattern + '/' + segment].keys()):\n",
    "                        segment_group.create_dataset(name=key,\n",
    "                                                     data=f_in_div['Circuit_' + str(circuit) + '/' + pattern + '/' + segment + \"/\" + key])\n",
    "\n",
    "    f_in.close()\n",
    "    f_out.close()\n",
    "\n",
    "    print(filename,time.time()-t0)\n",
    "    sys.stdout.flush()"
   ]
  },
  {
   "cell_type": "code",
   "execution_count": 12,
   "metadata": {},
   "outputs": [
    {
     "data": {
      "text/plain": [
       "[None, None, None, None, None, None]"
      ]
     },
     "execution_count": 12,
     "metadata": {},
     "output_type": "execute_result"
    }
   ],
   "source": [
    "Parallel(n_jobs=10)(delayed(smoothing_data)(filename,True) for filename in filenames)"
   ]
  },
  {
   "cell_type": "code",
   "execution_count": null,
   "metadata": {},
   "outputs": [],
   "source": []
  }
 ],
 "metadata": {
  "kernelspec": {
   "display_name": "Python 3",
   "language": "python",
   "name": "python3"
  },
  "language_info": {
   "codemirror_mode": {
    "name": "ipython",
    "version": 3
   },
   "file_extension": ".py",
   "mimetype": "text/x-python",
   "name": "python",
   "nbconvert_exporter": "python",
   "pygments_lexer": "ipython3",
   "version": "3.7.6"
  }
 },
 "nbformat": 4,
 "nbformat_minor": 2
}
