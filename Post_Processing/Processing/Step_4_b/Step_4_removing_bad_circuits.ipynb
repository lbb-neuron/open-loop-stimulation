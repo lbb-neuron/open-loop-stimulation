{
 "cells": [
  {
   "cell_type": "code",
   "execution_count": 1,
   "metadata": {},
   "outputs": [],
   "source": [
    "import numpy as np\n",
    "import h5py\n",
    "\n",
    "import re\n",
    "import os\n",
    "\n",
    "import copy"
   ]
  },
  {
   "cell_type": "code",
   "execution_count": 2,
   "metadata": {},
   "outputs": [],
   "source": [
    "input_data_path = '../Step_3/'"
   ]
  },
  {
   "cell_type": "code",
   "execution_count": 3,
   "metadata": {},
   "outputs": [],
   "source": [
    "number_of_electrodes  = np.array([0,1,1,1]) \n",
    "# [a,b,c,d] means that\n",
    "# 4 electrodes need at least a spikes,\n",
    "# 3 electrodes need at least b spikes,\n",
    "# 2 electrodes need at least c spikes, and\n",
    "# 1 electrode needs at least d spikes.\n",
    "# Both stims of the standard experiment are considered."
   ]
  },
  {
   "cell_type": "code",
   "execution_count": 4,
   "metadata": {},
   "outputs": [],
   "source": [
    "DIV = 27 # This is the DIV that is being\n",
    "run =  2 # This run is considered for the data analsysis"
   ]
  },
  {
   "cell_type": "code",
   "execution_count": 5,
   "metadata": {},
   "outputs": [],
   "source": [
    "# Is the circuit independent or not. \n",
    "# 1: The circuit is independent. \n",
    "# 0: The circuit is connected to another circuit and must not be used\n",
    "connected = { #  Circuit:  0  1  2  3  4  5  6  7  8  9  10  11  12  13  14\n",
    "                      2: [ 0, 1, 0, 0, 0, 0, 0, 0, 0, 0,  0,  1,  0,  0,  1],\n",
    "                      3: [ 1, 1, 1, 1, 1, 1, 1, 1, 1, 1,  1,  1,  1,  1,  1],\n",
    "                      4: [ 1, 1, 1, 1, 1, 1, 1, 1, 0, 1,  1,  1,  1,  1,  1],\n",
    "                      6: [ 1, 1, 1, 1, 1, 1, 1, 1, 1, 1,  1,  1,  1,  1,  0],\n",
    "                      7: [ 0, 0, 0, 0, 0, 0, 0, 0, 0, 0,  0,  0,  0,  0,  0],\n",
    "                      8: [ 1, 1, 1, 1, 1, 1, 1, 1, 1, 1,  1,  1,  1,  1,  1],\n",
    "                      9: [ 1, 1, 1, 1, 1, 1, 1, 1, 1, 1,  1,  1,  1,  1,  1],\n",
    "                     10: [ 1, 1, 1, 1, 1, 1, 1, 1, 1, 1,  1,  1,  1,  1,  1]\n",
    "}"
   ]
  },
  {
   "cell_type": "code",
   "execution_count": 6,
   "metadata": {},
   "outputs": [],
   "source": [
    "# Is a cell clump present in each of the nodes?\n",
    "# 1: Each node has at least one clump \n",
    "# 0: At least one node has no cell clump. Therefore, the circuit must not be used\n",
    "cells_present = { #  Circuit:  0  1  2  3  4  5  6  7  8  9  10  11  12  13  14\n",
    "                          2: [ 1, 1, 1, 1, 1, 1, 1, 1, 1, 1,  1,  0,  1,  1,  1],\n",
    "                          3: [ 1, 1, 1, 1, 1, 0, 1, 1, 0, 1,  1,  0,  1,  1,  0],\n",
    "                          4: [ 1, 1, 1, 1, 1, 0, 1, 1, 1, 1,  1,  1,  1,  1,  1],\n",
    "                          6: [ 1, 1, 1, 1, 1, 1, 0, 1, 1, 1,  1,  1,  1,  1,  1],\n",
    "                          7: [ 1, 1, 1, 0, 1, 1, 0, 1, 1, 0,  1,  1,  0,  1,  1],\n",
    "                          8: [ 1, 1, 1, 1, 0, 1, 1, 0, 0, 0,  0,  1,  0,  1,  1],\n",
    "                          9: [ 1, 1, 1, 1, 1, 1, 0, 1, 1, 1,  1,  1,  1,  1,  1],\n",
    "                         10: [ 0, 0, 0, 0, 0, 1, 0, 1, 1, 0,  0,  1,  0,  0,  0]\n",
    "}"
   ]
  },
  {
   "cell_type": "code",
   "execution_count": 7,
   "metadata": {},
   "outputs": [],
   "source": [
    "# # Is a cell clump present in each of the nodes?\n",
    "# # 1: Each node has at least one clump \n",
    "# # 0: At least one node has no cell clump. Therefore, the circuit must not be used\n",
    "# cells_present = { #  Circuit:  0  1  2  3  4  5  6  7  8  9  10  11  12  13  14\n",
    "#                           2: [ 1, 1, 1, 1, 1, 1, 1, 1, 1, 1,  1, 1,  1, 1,  1],\n",
    "#                           3: [ 1, 1, 1, 1, 1, 1, 1, 1, 1, 1,  1, 1,  1, 1,  1],\n",
    "#                           4: [ 1, 1, 1, 1, 1, 1, 1, 1, 1, 1,  1, 1,  1, 1,  1],\n",
    "#                           6: [ 1, 1, 1, 1, 1, 1, 1, 1, 1, 1,  1, 1,  1, 1,  1],\n",
    "#                           7: [ 1, 1, 1, 1, 1, 1, 1, 1, 1, 1,  1, 1,  1, 1,  1],\n",
    "#                           8: [ 1, 1, 1, 1, 1, 1, 1, 1, 1, 1,  1, 1,  1, 1,  1],\n",
    "#                           9: [ 1, 1, 1, 1, 1, 1, 1, 1, 1, 1,  1, 1,  1, 1,  1],\n",
    "#                          10: [ 1, 1, 1, 1, 1, 1, 1, 1, 1, 1,  1, 1,  1, 1,  1]\n",
    "# }"
   ]
  },
  {
   "cell_type": "code",
   "execution_count": 8,
   "metadata": {},
   "outputs": [],
   "source": [
    "filenames = []\n",
    "for (_,_,files) in os.walk(input_data_path):\n",
    "    for filename in files:\n",
    "        f_no_numbers = re.sub(r'[0-9]+','',filename)\n",
    "        if f_no_numbers == 'MEA__DIV_.h' and str(DIV) in filename:\n",
    "            filenames.append(filename)\n",
    "\n",
    "if len(filenames) != 8:\n",
    "    print(filenames)\n",
    "    assert False # You need to have a DIV that contains all 8 MEAs. At least one MEA does not exist for this DIV."
   ]
  },
  {
   "cell_type": "code",
   "execution_count": 9,
   "metadata": {},
   "outputs": [],
   "source": [
    "# Define, if activity properties are fullfilled\n",
    "is_active = copy.deepcopy(cells_present)\n",
    "\n",
    "for MEA in [2,3,4,6,7,8,9,10]:\n",
    "    # Load the file\n",
    "    f_in = h5py.File(input_data_path + 'MEA_' + str(MEA) + '_DIV_' + str(DIV) + '.h5','r')\n",
    "    for circuit in range(15):\n",
    "\n",
    "        # This counts, how many traces there are for each electrode\n",
    "        count_per_elec = np.zeros(4)\n",
    "\n",
    "        for pattern in [1,3]:\n",
    "            try:\n",
    "                group = f_in['Circuit_' + str(circuit) + '/Pattern_' + str(pattern) + '/Segment_' + str(run)]\n",
    "                keys = np.array(list(group.keys()))\n",
    "            except:\n",
    "                print('MEA: ',MEA)\n",
    "                print('Circuit: ',circuit)\n",
    "                print('Pattern: ',pattern)\n",
    "                assert False # There has been an error with this network (could not read the keys)\n",
    "            # Remove any keys that are not ridge information\n",
    "            keys = [key for key in keys if \"Ridge_\" in key]\n",
    "\n",
    "            elecs = []\n",
    "            for key in keys:\n",
    "                elecs.append(group[key][0,2])\n",
    "\n",
    "            count_per_elec += np.array([np.sum((np.array(elecs)==i)*1.) for i in range(4)])\n",
    "\n",
    "        # If 1, than all for conditions for trace count have been fullfiled. Otherwise, it is 0.\n",
    "        count_per_elec = np.sort(count_per_elec)\n",
    "        circuit_is_good = (np.min((count_per_elec>=number_of_electrodes)*1))\n",
    "\n",
    "        is_active[MEA][circuit] = circuit_is_good\n",
    "\n",
    "    f_in.close()"
   ]
  },
  {
   "cell_type": "code",
   "execution_count": 10,
   "metadata": {},
   "outputs": [],
   "source": [
    "# This saves the state for all circuits\n",
    "circuit_mask = copy.deepcopy(cells_present)\n",
    "for i in [2,3,4,6,7,8,9,10]:\n",
    "    circuit_mask[i] = np.array(cells_present[i])*np.array(is_active[i])*np.array(connected[i])"
   ]
  },
  {
   "cell_type": "code",
   "execution_count": 11,
   "metadata": {},
   "outputs": [
    {
     "data": {
      "text/plain": [
       "{2: array([0, 1, 0, 0, 0, 0, 0, 0, 0, 0, 0, 0, 0, 0, 0]),\n",
       " 3: array([0, 0, 0, 0, 0, 0, 0, 0, 0, 0, 0, 0, 0, 0, 0]),\n",
       " 4: array([0, 0, 0, 0, 0, 0, 0, 0, 0, 0, 0, 0, 0, 1, 1]),\n",
       " 6: array([1, 1, 1, 0, 0, 1, 0, 1, 1, 1, 0, 0, 1, 1, 0]),\n",
       " 7: array([0, 0, 0, 0, 0, 0, 0, 0, 0, 0, 0, 0, 0, 0, 0]),\n",
       " 8: array([1, 0, 1, 1, 0, 0, 0, 0, 0, 0, 0, 1, 0, 0, 1]),\n",
       " 9: array([0, 0, 0, 0, 0, 0, 0, 0, 0, 0, 0, 0, 0, 0, 0]),\n",
       " 10: array([0, 0, 0, 0, 0, 0, 0, 0, 0, 0, 0, 0, 0, 0, 0])}"
      ]
     },
     "execution_count": 11,
     "metadata": {},
     "output_type": "execute_result"
    }
   ],
   "source": [
    "circuit_mask"
   ]
  },
  {
   "cell_type": "code",
   "execution_count": 12,
   "metadata": {},
   "outputs": [
    {
     "name": "stdout",
     "output_type": "stream",
     "text": [
      "      Percentages      \n",
      "-----------------------\n",
      "Independence:    75.8 %\n",
      "Enough neurons:  75.8 %\n",
      "Useful activity: 20.0 %\n",
      "Total:           14.2 %\n"
     ]
    }
   ],
   "source": [
    "print(\"      Percentages      \")\n",
    "print(\"-----------------------\")\n",
    "print(\"Independence:   \", np.round(np.sum([np.sum(connected[i]) for i in [2,3,4,6,7,8,9,10]])*100/(8*15),1), \"%\")\n",
    "print(\"Enough neurons: \", np.round(np.sum([np.sum(cells_present[i]) for i in [2,3,4,6,7,8,9,10]])*100/(8*15),1), \"%\")\n",
    "print(\"Useful activity:\", np.round(np.sum([np.sum(is_active[i]) for i in [2,3,4,6,7,8,9,10]])*100/(8*15),1), \"%\")\n",
    "print(\"Total:          \", np.round(np.sum([np.sum(circuit_mask[i]) for i in [2,3,4,6,7,8,9,10]])*100/(8*15),1), \"%\")"
   ]
  },
  {
   "cell_type": "code",
   "execution_count": 13,
   "metadata": {},
   "outputs": [],
   "source": [
    "f = h5py.File('../Step_4/step_4_percentages.h5','w')\n",
    "for MEA in [2,3,4,6,7,8,9,10]:\n",
    "    MEA_group = f.create_group('MEA_' + str(MEA))\n",
    "    MEA_group.create_dataset(name='independence',  data=connected[MEA])\n",
    "    MEA_group.create_dataset(name='enough_neurons',data=cells_present[MEA])\n",
    "    MEA_group.create_dataset(name='is_active',data=is_active[MEA])\n",
    "    MEA_group.create_dataset(name='total',data=circuit_mask[MEA])\n",
    "f.close()"
   ]
  }
 ],
 "metadata": {
  "kernelspec": {
   "display_name": "Python 3",
   "language": "python",
   "name": "python3"
  },
  "language_info": {
   "codemirror_mode": {
    "name": "ipython",
    "version": 3
   },
   "file_extension": ".py",
   "mimetype": "text/x-python",
   "name": "python",
   "nbconvert_exporter": "python",
   "pygments_lexer": "ipython3",
   "version": "3.7.6"
  }
 },
 "nbformat": 4,
 "nbformat_minor": 2
}
