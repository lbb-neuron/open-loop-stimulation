{
 "cells": [
  {
   "cell_type": "code",
   "execution_count": 1,
   "metadata": {},
   "outputs": [],
   "source": [
    "import numpy as np\n",
    "import h5py\n",
    "\n",
    "import sys\n",
    "from joblib import Parallel,delayed\n",
    "import time\n",
    "\n",
    "import re\n",
    "import os"
   ]
  },
  {
   "cell_type": "code",
   "execution_count": 2,
   "metadata": {},
   "outputs": [],
   "source": [
    "raw_data_path = '../../Processed_Data/'"
   ]
  },
  {
   "cell_type": "code",
   "execution_count": 3,
   "metadata": {},
   "outputs": [],
   "source": [
    "def sort_data_by_pattern(filename,relevant_patterns,cut_start=True,max_length=-1):\n",
    "    \n",
    "    t0 = time.time()\n",
    "    \n",
    "    # Open the input/output file\n",
    "    filename_in = raw_data_path + filename\n",
    "    f = h5py.File(filename_in,'r')\n",
    "    f_out = h5py.File(filename,'w')\n",
    "    \n",
    "    # Go through all 15 circuits\n",
    "    for circuit in range(15): \n",
    "        \n",
    "        # Create the circuit group of current circuit\n",
    "        circuit_group = f_out.create_group('Circuit_' + str(circuit)) \n",
    "        \n",
    "        if cut_start:\n",
    "            ids      = np.array(f['Circuit_14/Patterns'])[:,1]\n",
    "            id_diff  = ids[1:] - ids[:-1]\n",
    "            id_diff  = (128+id_diff)%128\n",
    "            id_diff  = id_diff[2:] + id_diff[1:-1] + id_diff[0:-2]\n",
    "            id_diff  = np.logical_and(id_diff>=2,id_diff<=4)\n",
    "            id_start = np.argmax(id_diff != True)+3\n",
    "        else:\n",
    "            id_start = 0\n",
    "            \n",
    "        if max_length == -1:\n",
    "            id_stop = np.array(f['Circuit_14/Patterns'])[-1,0]\n",
    "        else:\n",
    "            id_stop = max_length\n",
    "        \n",
    "        # For each of the relevant patterns, distill the data\n",
    "        for pattern_id in relevant_patterns: \n",
    "\n",
    "            # This tells us, which stim ids are relevant\n",
    "            mask = id_start + np.where(np.array(f['Circuit_' + str(circuit) + '/Patterns'])[id_start:id_stop,1] == pattern_id)[0] \n",
    "\n",
    "            # Get spike data that has been masked by mask\n",
    "            data = np.array(f['Circuit_' + str(circuit) + '/Spikes'])\n",
    "            vec  = data[:,0]\n",
    "            try:\n",
    "                elements = np.concatenate([np.argwhere(vec == i) for i in mask])\n",
    "            except:\n",
    "                break\n",
    "            data = data[elements,:]\n",
    "\n",
    "            # Save the data in the file\n",
    "            pattern_group = circuit_group.create_group('Pattern_'+str(pattern_id))\n",
    "            pattern_group.create_dataset(\"Stim_IDs\",data=mask,dtype=np.uint32)\n",
    "            pattern_group.create_dataset(\"Spikes\",data=data,dtype=np.uint32) #Was a bug: uint16: 200819\n",
    "            \n",
    "    # Close files again\n",
    "    f_out.close()\n",
    "    f.close()\n",
    "        \n",
    "    print(filename,time.time()-t0,'sec')\n",
    "    sys.stdout.flush()"
   ]
  },
  {
   "cell_type": "markdown",
   "metadata": {},
   "source": [
    "## Standard experiment"
   ]
  },
  {
   "cell_type": "code",
   "execution_count": 4,
   "metadata": {},
   "outputs": [],
   "source": [
    "filenames = []\n",
    "for (_,_,files) in os.walk(raw_data_path):\n",
    "    for filename in files:\n",
    "        f_no_numbers = re.sub(r'[0-9]+','',filename)\n",
    "        if f_no_numbers == 'MEA__DIV_.h':\n",
    "            filenames.append(filename)\n",
    "        elif f_no_numbers == 'MEA__DIV__run_.h':\n",
    "            filenames.append(filename)"
   ]
  },
  {
   "cell_type": "code",
   "execution_count": 5,
   "metadata": {},
   "outputs": [],
   "source": [
    "relevant_patterns = list(np.concatenate([np.array([0,1,3]),np.arange(10,70)]))"
   ]
  },
  {
   "cell_type": "code",
   "execution_count": 6,
   "metadata": {},
   "outputs": [
    {
     "data": {
      "text/plain": [
       "[None,\n",
       " None,\n",
       " None,\n",
       " None,\n",
       " None,\n",
       " None,\n",
       " None,\n",
       " None,\n",
       " None,\n",
       " None,\n",
       " None,\n",
       " None,\n",
       " None,\n",
       " None,\n",
       " None,\n",
       " None,\n",
       " None,\n",
       " None,\n",
       " None,\n",
       " None,\n",
       " None,\n",
       " None,\n",
       " None,\n",
       " None,\n",
       " None,\n",
       " None,\n",
       " None,\n",
       " None,\n",
       " None,\n",
       " None,\n",
       " None,\n",
       " None,\n",
       " None,\n",
       " None,\n",
       " None,\n",
       " None,\n",
       " None,\n",
       " None,\n",
       " None,\n",
       " None,\n",
       " None,\n",
       " None,\n",
       " None,\n",
       " None,\n",
       " None,\n",
       " None,\n",
       " None,\n",
       " None,\n",
       " None,\n",
       " None,\n",
       " None,\n",
       " None,\n",
       " None,\n",
       " None,\n",
       " None,\n",
       " None,\n",
       " None,\n",
       " None,\n",
       " None,\n",
       " None,\n",
       " None,\n",
       " None,\n",
       " None,\n",
       " None,\n",
       " None,\n",
       " None,\n",
       " None,\n",
       " None,\n",
       " None,\n",
       " None,\n",
       " None,\n",
       " None,\n",
       " None,\n",
       " None,\n",
       " None,\n",
       " None,\n",
       " None,\n",
       " None,\n",
       " None,\n",
       " None,\n",
       " None,\n",
       " None,\n",
       " None,\n",
       " None,\n",
       " None,\n",
       " None,\n",
       " None,\n",
       " None]"
      ]
     },
     "execution_count": 6,
     "metadata": {},
     "output_type": "execute_result"
    }
   ],
   "source": [
    "Parallel(n_jobs=10)(delayed(sort_data_by_pattern)(filename,relevant_patterns,True,75000) for filename in filenames)"
   ]
  },
  {
   "cell_type": "markdown",
   "metadata": {},
   "source": [
    "## Spike Shape"
   ]
  },
  {
   "cell_type": "code",
   "execution_count": 7,
   "metadata": {},
   "outputs": [],
   "source": [
    "filenames = []\n",
    "for (_,_,files) in os.walk(raw_data_path):\n",
    "    for filename in files:\n",
    "        f_no_numbers = re.sub(r'[0-9]+','',filename)\n",
    "        if f_no_numbers == 'MEA__DIV_spike_shape.h':\n",
    "            filenames.append(filename)\n",
    "        elif f_no_numbers == 'MEA__DIV_spike_shape_.h':\n",
    "            filenames.append(filename)"
   ]
  },
  {
   "cell_type": "code",
   "execution_count": 8,
   "metadata": {},
   "outputs": [],
   "source": [
    "relevant_patterns = [0,1]"
   ]
  },
  {
   "cell_type": "code",
   "execution_count": 9,
   "metadata": {},
   "outputs": [
    {
     "data": {
      "text/plain": [
       "[None,\n",
       " None,\n",
       " None,\n",
       " None,\n",
       " None,\n",
       " None,\n",
       " None,\n",
       " None,\n",
       " None,\n",
       " None,\n",
       " None,\n",
       " None,\n",
       " None,\n",
       " None,\n",
       " None,\n",
       " None,\n",
       " None,\n",
       " None,\n",
       " None,\n",
       " None]"
      ]
     },
     "execution_count": 9,
     "metadata": {},
     "output_type": "execute_result"
    }
   ],
   "source": [
    "Parallel(n_jobs=10)(delayed(sort_data_by_pattern)(filename,relevant_patterns,True,175000) for filename in filenames)"
   ]
  },
  {
   "cell_type": "markdown",
   "metadata": {},
   "source": [
    "## Long Stim"
   ]
  },
  {
   "cell_type": "code",
   "execution_count": 10,
   "metadata": {},
   "outputs": [],
   "source": [
    "filenames = []\n",
    "for (_,_,files) in os.walk(raw_data_path):\n",
    "    for filename in files:\n",
    "        f_no_numbers = re.sub(r'[0-9]+','',filename)\n",
    "        if f_no_numbers == 'MEA__DIV_long_stim.h':\n",
    "            filenames.append(filename)"
   ]
  },
  {
   "cell_type": "code",
   "execution_count": 11,
   "metadata": {},
   "outputs": [],
   "source": [
    "relevant_patterns = [0,1,3]"
   ]
  },
  {
   "cell_type": "code",
   "execution_count": 12,
   "metadata": {},
   "outputs": [
    {
     "data": {
      "text/plain": [
       "[None, None, None, None]"
      ]
     },
     "execution_count": 12,
     "metadata": {},
     "output_type": "execute_result"
    }
   ],
   "source": [
    "Parallel(n_jobs=10)(delayed(sort_data_by_pattern)(filename,relevant_patterns,True,-1) for filename in filenames)"
   ]
  },
  {
   "cell_type": "markdown",
   "metadata": {},
   "source": [
    "## Circular Timing"
   ]
  },
  {
   "cell_type": "code",
   "execution_count": 4,
   "metadata": {},
   "outputs": [],
   "source": [
    "filenames = []\n",
    "for (_,_,files) in os.walk(raw_data_path):\n",
    "    for filename in files:\n",
    "        f_no_numbers = re.sub(r'[0-9]+','',filename)\n",
    "        if f_no_numbers == 'MEA__DIV_circular_timing.h':\n",
    "            filenames.append(filename)"
   ]
  },
  {
   "cell_type": "code",
   "execution_count": 5,
   "metadata": {},
   "outputs": [],
   "source": [
    "relevant_patterns = [0,80]"
   ]
  },
  {
   "cell_type": "code",
   "execution_count": 6,
   "metadata": {},
   "outputs": [
    {
     "data": {
      "text/plain": [
       "[None, None, None, None, None, None, None, None, None, None, None, None]"
      ]
     },
     "execution_count": 6,
     "metadata": {},
     "output_type": "execute_result"
    }
   ],
   "source": [
    "Parallel(n_jobs=10)(delayed(sort_data_by_pattern)(filename,relevant_patterns,True,-1) for filename in filenames)"
   ]
  },
  {
   "cell_type": "markdown",
   "metadata": {},
   "source": [
    "## Stim Addition"
   ]
  },
  {
   "cell_type": "code",
   "execution_count": 7,
   "metadata": {},
   "outputs": [],
   "source": [
    "filenames = []\n",
    "for (_,_,files) in os.walk(raw_data_path):\n",
    "    for filename in files:\n",
    "        f_no_numbers = re.sub(r'[0-9]+','',filename)\n",
    "        if f_no_numbers == 'MEA__DIV__stim_addition.h':\n",
    "            filenames.append(filename)"
   ]
  },
  {
   "cell_type": "code",
   "execution_count": 8,
   "metadata": {},
   "outputs": [],
   "source": [
    "relevant_patterns = list(np.arange(100,122,2))"
   ]
  },
  {
   "cell_type": "code",
   "execution_count": 9,
   "metadata": {},
   "outputs": [
    {
     "data": {
      "text/plain": [
       "[None, None, None, None]"
      ]
     },
     "execution_count": 9,
     "metadata": {},
     "output_type": "execute_result"
    }
   ],
   "source": [
    "Parallel(n_jobs=10)(delayed(sort_data_by_pattern)(filename,relevant_patterns,True,-1) for filename in filenames)"
   ]
  },
  {
   "cell_type": "markdown",
   "metadata": {},
   "source": [
    "## Noise Estimation"
   ]
  },
  {
   "cell_type": "code",
   "execution_count": 10,
   "metadata": {},
   "outputs": [],
   "source": [
    "filenames = []\n",
    "for (_,_,files) in os.walk(raw_data_path):\n",
    "    for filename in files:\n",
    "        f_no_numbers = re.sub(r'[0-9]+','',filename)\n",
    "        if f_no_numbers == 'MEA__DIV__noise_estimation.h':\n",
    "            filenames.append(filename)"
   ]
  },
  {
   "cell_type": "code",
   "execution_count": 11,
   "metadata": {},
   "outputs": [],
   "source": [
    "relevant_patterns = [0,1]"
   ]
  },
  {
   "cell_type": "code",
   "execution_count": 12,
   "metadata": {},
   "outputs": [
    {
     "data": {
      "text/plain": [
       "[None, None, None, None]"
      ]
     },
     "execution_count": 12,
     "metadata": {},
     "output_type": "execute_result"
    }
   ],
   "source": [
    "Parallel(n_jobs=10)(delayed(sort_data_by_pattern)(filename,relevant_patterns,True,-1) for filename in filenames)"
   ]
  }
 ],
 "metadata": {
  "kernelspec": {
   "display_name": "Python 3",
   "language": "python",
   "name": "python3"
  },
  "language_info": {
   "codemirror_mode": {
    "name": "ipython",
    "version": 3
   },
   "file_extension": ".py",
   "mimetype": "text/x-python",
   "name": "python",
   "nbconvert_exporter": "python",
   "pygments_lexer": "ipython3",
   "version": "3.7.6"
  }
 },
 "nbformat": 4,
 "nbformat_minor": 2
}
