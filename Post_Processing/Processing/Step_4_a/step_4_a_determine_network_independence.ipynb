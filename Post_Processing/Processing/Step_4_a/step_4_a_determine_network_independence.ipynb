{
 "cells": [
  {
   "cell_type": "code",
   "execution_count": 1,
   "metadata": {},
   "outputs": [],
   "source": [
    "import numpy as np\n",
    "import matplotlib.pyplot as plt\n",
    "import h5py\n",
    "\n",
    "from scipy import stats"
   ]
  },
  {
   "cell_type": "code",
   "execution_count": 2,
   "metadata": {},
   "outputs": [],
   "source": [
    "xlim     = 20. # ms\n",
    "fs       = 25. # kHz\n",
    "\n",
    "file_dir = '../Step_1/'"
   ]
  },
  {
   "cell_type": "code",
   "execution_count": 3,
   "metadata": {},
   "outputs": [],
   "source": [
    "DIVs     = [17,19,21,23,27]\n",
    "circuits = list(np.arange(15))\n",
    "MEAs     = [2,3,4,6,7,8,9,10]"
   ]
  },
  {
   "cell_type": "code",
   "execution_count": 4,
   "metadata": {},
   "outputs": [],
   "source": [
    "def get_pattern(DIVs,circuit_stim,circuit_record):\n",
    "    \n",
    "    num_stimuli   = []\n",
    "    spikes        = []\n",
    "    \n",
    "    for i in range(4):\n",
    "        spikes.append([])\n",
    "        num_stimuli.append([])\n",
    "        for j in range(4):\n",
    "            spikes[i].append([])\n",
    "            for k in range(len(DIVs)):\n",
    "                spikes[i][j].append([])\n",
    "                if j == 0:\n",
    "                    num_stimuli[i].append([])\n",
    "    \n",
    "    for k,DIV in enumerate(DIVs):\n",
    "        f = h5py.File(file_dir + 'MEA_' + str(MEA) + '_DIV_' + str(DIV) + '.h5','r')\n",
    "        circuit_group = f['Circuit_'+str(circuit_record)]\n",
    "        for i in range(4):\n",
    "            pattern_group = circuit_group['Pattern_'+str(i+10+4*circuit_stim)]\n",
    "\n",
    "            stim_ids      = np.array(pattern_group['Stim_IDs'])\n",
    "            num_stimuli[i][k] = stim_ids.shape[0]\n",
    "\n",
    "            s             = np.array(pattern_group['Spikes'])[:,0,:]\n",
    "\n",
    "            for j in range(4):\n",
    "                temp_spikes     = (s[s[:,1]==j,0:3:2])\n",
    "                if circuit_stim == circuit_record and i == j:\n",
    "                    # This means, the first spike needs to be removed (stim artifact)\n",
    "                    mask = np.argwhere(np.concatenate([np.ones(1),temp_spikes[1:,0]-temp_spikes[:-1,0]],0)==0)[:,0]\n",
    "                    temp_spikes = temp_spikes[mask,:]\n",
    "                spikes[i][j][k] = temp_spikes\n",
    "        f.close()\n",
    "        \n",
    "    for i in range(4):\n",
    "        num_stimuli[i] = np.sum(np.array(num_stimuli[i]))\n",
    "        for j in range(4):\n",
    "            spikes[i][j] = np.concatenate(spikes[i][j],axis=0)\n",
    "        \n",
    "    return spikes,num_stimuli"
   ]
  },
  {
   "cell_type": "code",
   "execution_count": 5,
   "metadata": {},
   "outputs": [],
   "source": [
    "def uniform_cdf(x):\n",
    "    # This is the true uniform distribution that we would expect, if spiking is independent from stimulus\n",
    "    return np.maximum(np.minimum(x/200.,1),0)"
   ]
  },
  {
   "cell_type": "code",
   "execution_count": 6,
   "metadata": {},
   "outputs": [],
   "source": [
    "def get_p_value(DIVs,circuit_stim,circuit_record):    \n",
    "    spikes,num_stimuli = get_pattern(DIVs,circuit_stim,circuit_record)\n",
    "    \n",
    "    p_values = np.zeros((4,4)) + 1\n",
    "    for i in range(4):\n",
    "        for j in range(4):\n",
    "            s             = np.array(spikes[i][j])/fs\n",
    "            s             = s[s[:,1]<200,1]\n",
    "            s             = s\n",
    "            if s.shape[0] == 0:\n",
    "                continue\n",
    "            _,p_value     = stats.kstest(s,uniform_cdf)\n",
    "            p_values[i,j] = p_value\n",
    "    return p_values"
   ]
  },
  {
   "cell_type": "code",
   "execution_count": 7,
   "metadata": {},
   "outputs": [
    {
     "name": "stdout",
     "output_type": "stream",
     "text": [
      "2\n",
      "3\n",
      "4\n",
      "6\n",
      "7\n",
      "8\n",
      "9\n",
      "10\n"
     ]
    }
   ],
   "source": [
    "f_out    = h5py.File('../Step_4/step_4_activity_independence.h5','w')\n",
    "for MEA in MEAs:\n",
    "    print(MEA)\n",
    "    p_values = np.zeros((4*len(circuits),4*len(circuits)))\n",
    "    for i in range(len(circuits)):\n",
    "        for j in range(len(circuits)):\n",
    "            p_values[i*4:(i+1)*4,j*4:(j+1)*4] = get_p_value(DIVs,circuits[i],circuits[j])\n",
    "    f_out.create_dataset(name = 'MEA_'+str(MEA),data=p_values)\n",
    "f_out.close()"
   ]
  },
  {
   "cell_type": "code",
   "execution_count": null,
   "metadata": {},
   "outputs": [],
   "source": []
  }
 ],
 "metadata": {
  "kernelspec": {
   "display_name": "Python 3",
   "language": "python",
   "name": "python3"
  },
  "language_info": {
   "codemirror_mode": {
    "name": "ipython",
    "version": 3
   },
   "file_extension": ".py",
   "mimetype": "text/x-python",
   "name": "python",
   "nbconvert_exporter": "python",
   "pygments_lexer": "ipython3",
   "version": "3.7.6"
  }
 },
 "nbformat": 4,
 "nbformat_minor": 2
}
